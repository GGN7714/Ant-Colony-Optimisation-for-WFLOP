{
  "cells": [
    {
      "cell_type": "code",
      "execution_count": null,
      "metadata": {
        "id": "6yyAUUBG4KBa"
      },
      "outputs": [],
      "source": [
        "import numpy as np\n",
        "import random\n",
        "import Scenarios, Evaluator\n",
        "import json\n",
        "import time"
      ]
    },
    {
      "cell_type": "code",
      "execution_count": null,
      "metadata": {
        "colab": {
          "base_uri": "https://localhost:8080/"
        },
        "id": "hBw7tL904VLS",
        "outputId": "222e335c-c83d-4c47-e0d5-4af95fac97e9"
      },
      "outputs": [],
      "source": [
        "sc=Scenarios.Scenario()\n",
        "eval=Evaluator.Evaluator()\n",
        "angles, obstacles, width, height, nturbines, wfe=sc.getScenario(\"3.xml\")\n",
        "sc.initOptpar()\n",
        "rows=0\n",
        "cols=0\n",
        "minRad=79\n",
        "solMat=np.empty((0,0))\n",
        "solR=[]\n",
        "solC=[]\n",
        "interval=0.1*sc.R"
      ]
    },
    {
      "cell_type": "code",
      "execution_count": null,
      "metadata": {
        "id": "XG8089DqfmnJ"
      },
      "outputs": [],
      "source": [
        "def getDatafromFile():\n",
        "    data=0\n",
        "    with open(\"drive/MyDrive/Dissertation/scenario4Data.json\") as f:\n",
        "        data=json.load(f)\n",
        "    grid=data[\"Grid\"]\n",
        "    print(\"Grid Collected\")\n",
        "    solMat=data[\"SolMat\"]\n",
        "    print(\"SolMat Collected\")\n",
        "    rows=data[\"rows\"]\n",
        "    print(\"Rows Collected\")\n",
        "    cols=data[\"cols\"]\n",
        "    print(\"Cols Collected\")\n",
        "    solR=data[\"SolR\"]\n",
        "    print(\"SolR Collected\")\n",
        "    solC=data[\"SolC\"]\n",
        "    print(\"SolC Collected\")\n",
        "    print(\"Data Collected\")\n",
        "    \n",
        "    return grid,solMat,rows,cols,solR,solC"
      ]
    },
    {
      "cell_type": "code",
      "execution_count": null,
      "metadata": {
        "id": "AOEKvYH54bbN"
      },
      "outputs": [],
      "source": [
        "\n",
        "# Sample grid generator\n",
        "def createGrid():\n",
        "    grid=[]\n",
        "    rows=0\n",
        "    cols=0\n",
        "    for x in np.arange(0,width,interval):\n",
        "        rows+=1\n",
        "    for x in np.arange(0,height,interval):\n",
        "        cols+=1\n",
        "    solMat=np.empty((rows,cols))\n",
        "    print(solMat.shape)\n",
        "    \n",
        "    gridIdx=0\n",
        "    curRow=-1\n",
        "    for x in np.arange(0,width,interval):\n",
        "        curCol=-1\n",
        "        curRow+=1\n",
        "        for y in np.arange(0,height,interval):\n",
        "            curCol+=1\n",
        "            valid=True\n",
        "            for i in range(len(obstacles)):\n",
        "                obs=obstacles.loc[i]\n",
        "                if(x>obs[\"xmin\"] and y>obs[\"ymin\"] and x<obs[\"xmax\"] and y<obs[\"ymax\"]):\n",
        "                    valid=False\n",
        "            if (valid):\n",
        "                point=(x,y)\n",
        "                grid.append(point)\n",
        "                solMat[curRow][curCol]=int(gridIdx)\n",
        "                gridIdx+=1\n",
        "            else:\n",
        "                solMat[curRow][curCol]=int(-1)\n",
        "    \n",
        "    return grid,solMat,rows,cols\n",
        "#grid,solMat=createGrid()"
      ]
    },
    {
      "cell_type": "code",
      "execution_count": null,
      "metadata": {
        "id": "0R5tyxID4ckf"
      },
      "outputs": [],
      "source": [
        "def solPar():\n",
        "    solR=[0]*len(grid)\n",
        "    solC=[0]*len(grid)\n",
        "    gridIdx=0\n",
        "    curRow=-1\n",
        "    for x in np.arange(0,width,interval):\n",
        "        curCol=-1\n",
        "        curRow+=1\n",
        "        for y in np.arange(0,height,interval):\n",
        "            curCol+=1\n",
        "            valid=True\n",
        "            for i in range(len(obstacles)):\n",
        "                obs=obstacles.loc[i]\n",
        "                if(x>obs[\"xmin\"] and y>obs[\"ymin\"] and x<obs[\"xmax\"] and y<obs[\"ymax\"]):\n",
        "                    valid=False\n",
        "            if (valid):\n",
        "                solR[gridIdx]=curRow\n",
        "                solC[gridIdx]=curCol\n",
        "                gridIdx+=1\n",
        "    \n",
        "    return solR,solC\n",
        "#solR,solC=solPar()"
      ]
    },
    {
      "cell_type": "code",
      "execution_count": null,
      "metadata": {
        "id": "RelDpe_X4gKw"
      },
      "outputs": [],
      "source": [
        "def initialSol(x,y,sh):\n",
        "    solution=[False]*len(grid)\n",
        "    for i in range(0,rows,minRad+1+x):\n",
        "        for j in range(0,cols,minRad+1+y):\n",
        "            curShift=(j/(minRad+1+y))*sh\n",
        "            needfix=False\n",
        "            curShift=int(i+curShift)\n",
        "            if(curShift>=rows):\n",
        "                needfix=True\n",
        "                curShift=curShift%rows\n",
        "            if(solMat[curShift][j]!=-1):\n",
        "                solution[int(solMat[curShift][j])]=True\n",
        "                if(needfix):\n",
        "                    solution=fixPos(int(solMat[curShift][j]),solution)\n",
        "    print(\"X: \",x,\" Y: \",y,\" Shift: \",sh)\n",
        "    return solution"
      ]
    },
    {
      "cell_type": "code",
      "execution_count": null,
      "metadata": {
        "id": "GTervTYM4jWV"
      },
      "outputs": [],
      "source": [
        "from os import remove\n",
        "def createSol(llhs,bestllh):\n",
        "    x=0\n",
        "    y=0\n",
        "    sh=0\n",
        "    \n",
        "    llh=llhs+bestllh\n",
        "\n",
        "    for up in llh:\n",
        "        if up==0:\n",
        "            x=incX(x)\n",
        "        elif up==1:\n",
        "            x=decX(x)\n",
        "        elif up==2:\n",
        "            y=incY(y)\n",
        "        elif up==3:\n",
        "            y=decY(y)\n",
        "        elif up==4:\n",
        "            sh=incShift(sh)\n",
        "        elif up==5:\n",
        "            sh=decShift(sh)\n",
        "    \n",
        "    solution=[False]*len(grid)\n",
        "    for i in range(0,rows,minRad+1+x):\n",
        "        for j in range(0,cols,minRad+1+y):\n",
        "            curShift=(j/(minRad+1+y))*sh\n",
        "            needfix=False\n",
        "            if sh<0:\n",
        "                needfix=True\n",
        "            curShift=int(i+curShift)\n",
        "            if(curShift>=rows):\n",
        "                needfix=True\n",
        "                curShift=curShift%rows\n",
        "            if(solMat[curShift][j]!=-1):\n",
        "                solution[int(solMat[curShift][j])]=True\n",
        "                if(needfix):\n",
        "                    solution=fixPos(int(solMat[curShift][j]),solution)\n",
        "\n",
        "    for up in llh:\n",
        "        if (up==6):\n",
        "              solution=removeTurbine(solution)\n",
        "        elif (up==7):\n",
        "              solution=removeStrip(solution)\n",
        "#     if up==0:\n",
        "#         solution=incX(solution)\n",
        "#     elif up==1:\n",
        "#         solution=decX(solution)\n",
        "#     elif up==2:\n",
        "#         solution=incY(solution)\n",
        "#     elif up==3:\n",
        "#         solution=decY(solution)\n",
        "#     elif up==4:\n",
        "#         solution=incshiftRagged(solution)\n",
        "#     elif up==5:\n",
        "#         solution=decshiftRagged(solution)\n",
        "#     if (up==6):\n",
        "#       solution=removeTurbine(solution)\n",
        "# #     elif (up==7):\n",
        "# #       solution=addTurbine(solution)\n",
        "#     elif (up==7):\n",
        "#       solution=removeStrip(solution)\n",
        "#     elif (up==8):\n",
        "#       solution=removeStripAdd(solution)\n",
        "\n",
        "    return solution"
      ]
    },
    {
      "cell_type": "code",
      "execution_count": null,
      "metadata": {
        "id": "0sbt0i9V4lmb"
      },
      "outputs": [],
      "source": [
        "def fixPos(idx,solution):\n",
        "    if(minRad>0):\n",
        "        if(solution[idx]):\n",
        "            curRow=solR[idx]\n",
        "            curCol=solC[idx]\n",
        "            for i in range(curRow-minRad,curRow+minRad):\n",
        "                for j in range(curCol-minRad,curCol+minRad):\n",
        "                    if ( (i >= 0) and (i < rows) and (j >= 0) and (j < cols) ):\n",
        "                        if(not ((i==curRow) and (j==curCol))):\n",
        "                            if(solMat[i][j] != -1):\n",
        "                                if(solution[int(solMat[i][j])]):\n",
        "                                    solution[idx]=False\n",
        "    return solution\n",
        "    "
      ]
    },
    {
      "cell_type": "code",
      "execution_count": null,
      "metadata": {
        "id": "roC3rUvd4oTO"
      },
      "outputs": [],
      "source": [
        "def evaluate(sol):\n",
        "    #check all zeros\n",
        "    eval=Evaluator.Evaluator()\n",
        "    eval.initialise(sc)\n",
        "    allZeros=True\n",
        "    for i in range(0,len(grid)):\n",
        "        if(sol[i]):\n",
        "            allZeros=True\n",
        "            break\n",
        "    nturbines=0\n",
        "    for i in range(len(grid)):\n",
        "        if(sol[i]):\n",
        "            nturbines+=1\n",
        "    layout=np.empty((nturbines,2))\n",
        "    l_i=0\n",
        "    for i in range(len(grid)):\n",
        "        if(sol[i]):\n",
        "            layout[l_i][0]=grid[i][0]\n",
        "            layout[l_i][1]=grid[i][1]\n",
        "            l_i+=1\n",
        "    return(eval.evaluate(layout))\n",
        "    "
      ]
    },
    {
      "cell_type": "code",
      "execution_count": null,
      "metadata": {
        "id": "zCbVZQCUT5TV"
      },
      "outputs": [],
      "source": [
        "#Use this code segment if creating grid for first time. \n",
        "grid,solMat,rows,cols=createGrid()\n",
        "solR,solC=solPar()\n",
        "\n",
        "#creating Json file to store created grid points for furure use.\n",
        "import json\n",
        "dict={\"Grid\":grid,\"SolMat\":solMat.tolist(),\"rows\":rows,\"cols\":cols,\"SolR\":solR,\"SolC\":solC}\n",
        "json_object = json.dumps(dict, indent = 6)\n",
        "with open(\"sample.json\", \"w\") as outfile:\n",
        "    outfile.write(json_object)"
      ]
    },
    {
      "cell_type": "code",
      "execution_count": null,
      "metadata": {
        "colab": {
          "base_uri": "https://localhost:8080/"
        },
        "id": "pzUg_pihfmnU",
        "outputId": "fdb8dec4-80a7-4047-81b4-4f2ba7c238e3"
      },
      "outputs": [],
      "source": [
        "#Use this to load grid from previously created Json file\n",
        "grid,solMat,rows,cols,solR,solC=getDatafromFile()\n",
        "solMat=np.array(solMat)"
      ]
    },
    {
      "cell_type": "code",
      "execution_count": null,
      "metadata": {
        "id": "s0OJyggY59Hd"
      },
      "outputs": [],
      "source": [
        "import matplotlib.pyplot as plt\n",
        "import matplotlib.patches as mpatches\n",
        "\n",
        "def visualize(mysolution):\n",
        "    x=0\n",
        "    newLayout=[]\n",
        "    for i in range(rows):\n",
        "        for j in range(cols):\n",
        "            if mysolution[x]:\n",
        "                newLayout.append(grid[x])\n",
        "            if x<len(mysolution)-1:\n",
        "                x+=1\n",
        "    plt.figure(figsize=(20,20))\n",
        "    plt.ylim(height+100,-50)\n",
        "    plt.xlim(-50,width+100)\n",
        "    \n",
        "\n",
        "    farm=mpatches.Rectangle((0,0),width,height, \n",
        "                            fill = False,\n",
        "                            color = \"black\",\n",
        "                            linewidth = 2)\n",
        "\n",
        "    plt.gca().add_patch(farm)\n",
        "    for i in range(len(obstacles)):\n",
        "        xmin=obstacles.loc[i][\"xmin\"]\n",
        "        xmax=obstacles.loc[i][\"xmax\"]\n",
        "        ymin=obstacles.loc[i][\"ymin\"]\n",
        "        ymax=obstacles.loc[i][\"ymax\"]\n",
        "        rect1=mpatches.Rectangle((xmin,ymin),(xmax-xmin),(ymax-ymin), \n",
        "                            fill = False,\n",
        "                            color = \"purple\",\n",
        "                            linewidth = 2)\n",
        "        plt.gca().add_patch(rect1)\n",
        "    # plt.plot(10,10,marker=\"o\", markersize=20, markeredgecolor=\"red\", markerfacecolor=\"green\")\n",
        "    # plt.plot(newLayout[10000][0],newLayout[10000][1],marker=\"o\", markersize=20, markeredgecolor=\"red\", markerfacecolor=\"green\")\n",
        "\n",
        "    for point in newLayout:\n",
        "        plt.plot(point[0],point[1],marker=\"o\", markersize=10, markeredgecolor=\"red\", markerfacecolor=\"green\")\n",
        "\n",
        "    plt.show()\n",
        "    print(\"Number of Turbines:\", len(newLayout))"
      ]
    },
    {
      "cell_type": "code",
      "execution_count": null,
      "metadata": {
        "id": "U_ssKl1_fmna"
      },
      "outputs": [],
      "source": [
        "def testSolution(x,y,sh):\n",
        "    return createSol(x,y,sh)"
      ]
    },
    {
      "cell_type": "code",
      "execution_count": null,
      "metadata": {
        "id": "MV_TyGRqfmnb"
      },
      "outputs": [],
      "source": [
        "myLayout=0\n",
        "def testLayout(sol):\n",
        "    solution=sol\n",
        "    eval.initialise(sc)\n",
        "    allZeros=True\n",
        "    for i in range(0,len(grid)):\n",
        "        if(solution[i]):\n",
        "            allZeros=True\n",
        "            break\n",
        "    #isBestImp=False\n",
        "    nturbines=0\n",
        "    for i in range(len(grid)):\n",
        "        if(solution[i]):\n",
        "            nturbines+=1\n",
        "    layout=np.empty((nturbines,2))\n",
        "    l_i=0\n",
        "    for i in range(len(grid)):\n",
        "        if(solution[i]):\n",
        "            layout[l_i][0]=grid[i][0]\n",
        "            layout[l_i][1]=grid[i][1]\n",
        "            l_i+=1\n",
        "    return layout\n"
      ]
    },
    {
      "cell_type": "markdown",
      "metadata": {
        "id": "qI4Hiwgzfmnf"
      },
      "source": [
        "### Defining the Low Level Heuristics"
      ]
    },
    {
      "cell_type": "code",
      "execution_count": null,
      "metadata": {
        "id": "FwDMX5HMfmnf"
      },
      "outputs": [],
      "source": [
        "def incX(x):\n",
        "    x+=1\n",
        "    return x\n",
        "def decX(x):\n",
        "    x-=1\n",
        "    return x\n",
        "def incY(y):\n",
        "    y+=1\n",
        "    return y\n",
        "def decY(y):\n",
        "    y-=1\n",
        "    return y\n",
        "def incShift(sh):\n",
        "    sh+=5\n",
        "    return sh\n",
        "def decShift(sh):\n",
        "    sh-=5\n",
        "    return sh\n",
        "\n",
        "# def incX(sol):\n",
        "#     x=0\n",
        "#     newSolution=[False]*len(grid)\n",
        "#     for i in range(0,rows):\n",
        "#         flag=False\n",
        "#         for j in range(0,cols):\n",
        "#             if sol[int(solMat[i][j])] and (solMat[i][j])!=-1:\n",
        "#                 if (i+x) <rows and solMat[i+x][j] != -1:\n",
        "#                     newSolution[int(solMat[i+x][j])]=True\n",
        "#                     flag=True\n",
        "#         if flag:\n",
        "#             x=x+1\n",
        "#     return newSolution\n",
        "\n",
        "\n",
        "# def incY(sol):\n",
        "#     x=0\n",
        "#     newSolution=[False]*len(grid)\n",
        "#     for i in range(0,cols):\n",
        "#         flag=False\n",
        "#         for j in range(0,rows):\n",
        "#             if sol[int(solMat[j][i])] and (solMat[j][i])!=-1:\n",
        "#                 if (i+x) <cols and solMat[j][i+x] != -1:\n",
        "#                     newSolution[int(solMat[j][i+x])]=True\n",
        "#                     flag=True\n",
        "#         if flag:\n",
        "#             x=x+1\n",
        "#     return newSolution\n",
        "\n",
        "# def decX(sol):\n",
        "#     x=0\n",
        "#     newSolution=[False]*len(grid)\n",
        "#     for i in range(0,rows):\n",
        "#         flag=False\n",
        "#         for j in range(0,cols):\n",
        "#             if sol[int(solMat[i][j])] and (solMat[i][j])!=-1:\n",
        "#                 if (i+x) >=0 and solMat[i+x][j] != -1:\n",
        "#                     newSolution[int(solMat[i+x][j])]=True\n",
        "#                     flag=True\n",
        "#         if flag:\n",
        "#             x=x-1\n",
        "#     return newSolution\n",
        "\n",
        "# def decY(sol):\n",
        "#     x=0\n",
        "#     newSolution=[False]*len(grid)\n",
        "#     for i in range(0,cols):\n",
        "#         flag=False\n",
        "#         for j in range(0,rows):\n",
        "#             if sol[int(solMat[j][i])] and (solMat[j][i])!=-1:\n",
        "#                 if (i+x) >=0 and solMat[j][i+x] != -1:\n",
        "#                     newSolution[int(solMat[j][i+x])]=True\n",
        "#                     flag=True\n",
        "#         if flag:\n",
        "#             x=x-1\n",
        "#     return newSolution\n",
        "\n",
        "# def incshiftRagged(sol):\n",
        "#     x=0\n",
        "#     newSolution=[False]*len(grid)\n",
        "#     for i in range(0,rows):\n",
        "#         flag=False\n",
        "#         for j in range(0,cols):\n",
        "#             needfix=False\n",
        "#             if sol[int(solMat[i][j])] and (solMat[i][j])!=-1:\n",
        "#                 if solMat[i][(j+x)%cols] != -1:\n",
        "#                     newSolution[int(solMat[i][(j+x)%cols])]=True\n",
        "#                     flag=True\n",
        "#                     if(j+x>=cols):\n",
        "#                         needfix=True\n",
        "#                 if(needfix):\n",
        "#                     newSolution=fixPos(int(solMat[i][(j+x)%cols]),newSolution)\n",
        "#         if flag:\n",
        "#             x=x+5\n",
        "            \n",
        "#     return newSolution\n",
        "\n",
        "# def decshiftRagged(sol):\n",
        "#     x=0\n",
        "#     newSolution=[False]*len(grid)\n",
        "#     for i in range(0,rows):\n",
        "#         flag=False\n",
        "#         for j in range(0,cols):\n",
        "#             needfix=False\n",
        "#             if sol[int(solMat[i][j])] and (solMat[i][j])!=-1:\n",
        "#                 if solMat[i][(j+x)%cols] != -1:\n",
        "#                     newSolution[int(solMat[i][(j+x)%cols])]=True\n",
        "#                     flag=True\n",
        "#                     if(j+x>=cols):\n",
        "#                         needfix=True\n",
        "#                 if(needfix):\n",
        "#                     newSolution=fixPos(int(solMat[i][(j+x)%cols]),newSolution)\n",
        "#         if flag:\n",
        "#             x=x-5\n",
        "            \n",
        "#     return newSolution\n",
        "\n",
        "\n",
        "import random\n",
        "def removeTurbine(sol):\n",
        "    temp=[]\n",
        "    for i in range(len(grid)):\n",
        "        if(sol[i]):\n",
        "            temp.append(i)\n",
        "    x = random.randrange(len(temp))\n",
        "    sol[temp[x]]=False\n",
        "    return sol\n",
        "\n",
        "def addTurbine(sol):\n",
        "    x = random.randrange(len(grid))\n",
        "    sol[x]=True\n",
        "    return sol\n",
        "  \n",
        "def removeStrip(sol):\n",
        "    temp=[]\n",
        "    for i in range(len(grid)):\n",
        "        if(sol[i]):\n",
        "            temp.append(i)\n",
        "    x = random.randrange(len(temp))\n",
        "    if temp[x]+1000 < len(sol):\n",
        "      for i in range(temp[x],temp[x]+1000):\n",
        "          sol[i]=False\n",
        "    else:\n",
        "      for i in range(temp[x],temp[x]-1000,-1):\n",
        "          sol[i]=False\n",
        "    return sol\n",
        "\n",
        "def removeStripAdd(sol):\n",
        "    temp=solMat.T\n",
        "    x=np.random.choice(range(cols),2,replace=False)\n",
        "    y=np.random.choice(range(rows),2,replace=False)\n",
        "    x.sort()\n",
        "    y.sort()\n",
        "    patch=temp[x[0]:x[0]+300,y[0]:y[0]+300]\n",
        "    available=[]\n",
        "    for i in range(patch.shape[0]):\n",
        "        for j in range(patch.shape[1]):\n",
        "            if (patch[i][j] !=-1):\n",
        "                sol[int(patch[i][j])]=False\n",
        "                available.append(int(patch[i][j]))\n",
        "#     newTurb=np.random.choice(available,5,replace=False)\n",
        "#     for i in newTurb:\n",
        "#         solution[i]=True\n",
        "    cons=True\n",
        "    a=available.copy()\n",
        "    while(cons):\n",
        "        ch=random.choice(a)\n",
        "        sol[ch]=True\n",
        "        nturbines=0\n",
        "        for i in available:\n",
        "            if(sol[i]):\n",
        "                nturbines+=1\n",
        "        lay=np.empty((nturbines,2))\n",
        "        l_i=0\n",
        "        for i in available:\n",
        "            if(sol[i]):\n",
        "                lay[l_i][0]=grid[i][0]\n",
        "                lay[l_i][1]=grid[i][1]\n",
        "                l_i+=1 \n",
        "        cons=eval.checkConstraints(lay)\n",
        "        if(not cons):\n",
        "            sol[ch]=False\n",
        "        a.remove(ch)\n",
        "    return sol\n"
      ]
    },
    {
      "cell_type": "markdown",
      "metadata": {
        "id": "8cTxakM8fmnn"
      },
      "source": [
        "# Optimization"
      ]
    },
    {
      "cell_type": "markdown",
      "metadata": {},
      "source": [
        "### Defining ACO-HH operations"
      ]
    },
    {
      "cell_type": "code",
      "execution_count": null,
      "metadata": {
        "id": "BFg-c-zufmnn"
      },
      "outputs": [],
      "source": [
        "def savelocalImp(h,oldObj,newObj):\n",
        "    if llhProp[h][4]>0:\n",
        "        llhProp[h][0]=llhProp[h][0]+(oldObj-newObj)"
      ]
    },
    {
      "cell_type": "code",
      "execution_count": null,
      "metadata": {
        "id": "M7_5b0Avfmnn"
      },
      "outputs": [],
      "source": [
        "def saveglobalImp(h,oldObj,newObj):\n",
        "    for i in h:\n",
        "        llhProp[i][1]=llhProp[i][1]+(abs(oldObj-newObj))"
      ]
    },
    {
      "cell_type": "code",
      "execution_count": null,
      "metadata": {
        "id": "21jr27FJfmno"
      },
      "outputs": [],
      "source": [
        "def incLLH(h):\n",
        "    llhProp[h][4]+=1"
      ]
    },
    {
      "cell_type": "code",
      "execution_count": null,
      "metadata": {
        "id": "5j-3q7Z8fmno"
      },
      "outputs": [],
      "source": [
        "def updateLLHProp(llhProp):\n",
        "    minMkl=min(llhProp[0:,0])\n",
        "    minMCkh=min(llhProp[0:,1])\n",
        "    for i in range(len(llhProp)):\n",
        "        eeta=llhProp[i][0]+1-minMkl\n",
        "        llhProp[i][2]=round(eeta,2)\n",
        "        tau=llhProp[i][1]+1-minMCkh\n",
        "        llhProp[i][3]=round(tau,2)\n",
        "    den=0\n",
        "    for i in range(len(llhProp)):\n",
        "        den+=(pow(llhProp[i][1],alpha)*pow(llhProp[i][0],beta))\n",
        "    for h in range(len(llhProp)):\n",
        "        p=(pow(llhProp[h][1],alpha)*pow(llhProp[h][0],beta))/den\n",
        "        llhProp[h][5]=p\n",
        "    return llhProp"
      ]
    },
    {
      "cell_type": "code",
      "execution_count": null,
      "metadata": {
        "id": "0w-Xn8HLfmno"
      },
      "outputs": [],
      "source": [
        "def chooseLLH():\n",
        "    return np.random.choice([0,1,2,3,4,5,6,7], 1,p = llhProp[0:,5])[0]\n",
        "def randChoice():\n",
        "    return np.random.choice([0,1,2,3,4,5,6], 1)[0]"
      ]
    },
    {
      "cell_type": "markdown",
      "metadata": {
        "id": "ED3_xNQ6fmno"
      },
      "source": [
        "### Performing Optimisation"
      ]
    },
    {
      "cell_type": "code",
      "execution_count": null,
      "metadata": {
        "id": "22fZPUPXPvd8"
      },
      "outputs": [],
      "source": [
        "avgObjs=[]\n",
        "avgLLH=[]\n",
        "bestRunOpt=[]\n",
        "allRunObjs=[]\n",
        "bestRunObj=999\n",
        "bestRunSol=[]"
      ]
    },
    {
      "cell_type": "code",
      "execution_count": null,
      "metadata": {
        "colab": {
          "background_save": true,
          "base_uri": "https://localhost:8080/"
        },
        "id": "bFfZutswfmnp",
        "outputId": "ff1010bb-bd37-4b6f-d266-862ddef8bee4"
      },
      "outputs": [],
      "source": [
        "for g in range(3):\n",
        "    print(\"\\n********** RUN \",g,\" **********\\n\")    \n",
        "    nAnts=5\n",
        "    conSteps=5\n",
        "    maxIter=4\n",
        "    alpha=1\n",
        "    beta=2\n",
        "    bestObj=9999\n",
        "    objs=[]\n",
        "    bestSol=[]\n",
        "    bestLLH=[]\n",
        "\n",
        "    stepX=0\n",
        "    stepY=0\n",
        "    shift=0\n",
        "    st = time.time()\n",
        "    solution=initialSol(stepX,stepY,shift)\n",
        "    obj=evaluate(solution)\n",
        "    objs.append(obj)\n",
        "    antProp=np.empty((nAnts,4),dtype=object)\n",
        "    for i in range(nAnts):\n",
        "        antProp[i]=np.array([solution,[],obj,9999],dtype=object)\n",
        "    llhProp=np.empty((8,6),dtype=np.float32)\n",
        "    for i in range(8):\n",
        "        llhProp[i]=np.array([0,0,0,0,0,1/8])\n",
        "\n",
        "\n",
        "\n",
        "    queue=[]\n",
        "    for i in range(maxIter):\n",
        "        print(\"\\nIteration \",i,\" :\")\n",
        "        print(\"Best sol at start of Iteration: \",bestObj,\"\\n\")\n",
        "        LLHit=[]\n",
        "        for k in range(nAnts):\n",
        "            antProp[k][1]=[]\n",
        "\n",
        "        for j in range(conSteps):\n",
        "            print(\"\\nConstruction Step \",j,\" :\")\n",
        "            \n",
        "            for k in range(nAnts):\n",
        "                print(\"\\nAnt \",k,\" :\\n\")\n",
        "                \n",
        "                oldSol=antProp[k][0]\n",
        "                oldObj=antProp[k][2]\n",
        "                if j==0:\n",
        "                    antProp[k][3]=oldObj\n",
        "                print(\"\\nAnt Prop at Start:\\n\",antProp[:,1:])\n",
        "                print(\"Best Solution of ant : \",antProp[k][3],\"\\n\")\n",
        "                #print(\"Ant Prop at start:\\n\",antProp[:,1:],\"\\n\")\n",
        "                \n",
        "                h=chooseLLH()\n",
        "                incLLH(h)\n",
        "                #h=randChoice()\n",
        "                print(\"Chosen Heuristic: \",h)\n",
        "                antProp[k][1].append(h)\n",
        "                newSol=createSol(antProp[k][1],bestLLH)\n",
        "                print(\"Applied Heuristics: \",antProp[k][1]+bestLLH)\n",
        "                queue.insert(0,h)\n",
        "                if len(queue)>=10:\n",
        "                    print(\"Sat Cond: \",len(set(queue)))\n",
        "                    if len(set(queue))<=2:\n",
        "                        print(\"Reached Saturation\")\n",
        "                        llhProp[0:,5]=np.array([1/8]*8)\n",
        "                        queue=[]\n",
        "                    else:\n",
        "                        queue.pop()\n",
        "                \n",
        "                if eval.checkConstraints(testLayout(newSol)):\n",
        "                    newObj=evaluate(newSol)\n",
        "                    print(\"Solution of ant after construction: \",newObj,\"\\n\")\n",
        "                    savelocalImp(h,oldObj,newObj)\n",
        "                    if newObj<=oldObj+0.01*oldObj:\n",
        "                        antProp[k][0]=newSol\n",
        "                        antProp[k][2]=newObj\n",
        "                        if antProp[k][2]<bestObj:\n",
        "                            bestSol=antProp[k][0]\n",
        "                            bestObj=antProp[k][2]\n",
        "                            LLHit=antProp[k][1]\n",
        "                    else:\n",
        "                      antProp[k][1].pop()\n",
        "                    \n",
        "                else:\n",
        "                    antProp[k][0]=oldSol\n",
        "                    savelocalImp(h,oldObj,oldObj+0.000003)\n",
        "                    antProp[k][1].pop()\n",
        "                \n",
        "                #print(\"AntProp at End: \\n\",antProp[:,1:],\"\\n\")\n",
        "                \n",
        "                \n",
        "                \n",
        "        for k in range(nAnts):\n",
        "            saveglobalImp(antProp[k][1],antProp[k][3],antProp[k][2])\n",
        "        bestLLH=bestLLH+LLHit\n",
        "\n",
        "        \n",
        "        print(\"Best LLH: \",bestLLH,\"\\n\")\n",
        "        llhProp=updateLLHProp(llhProp)\n",
        "        \n",
        "        for k in range(nAnts):\n",
        "            antProp[k][0]=bestSol\n",
        "            antProp[k][1]=LLHit\n",
        "            antProp[k][2]=bestObj\n",
        "\n",
        "            \n",
        "        \n",
        "        objs.append(bestObj)\n",
        "        \n",
        "        print(\"Best sol at end of Iteration: \",bestObj,\"\\n\")\n",
        "    et = time.time()\n",
        "    elapsed_time = et - st\n",
        "    print('Execution time:', elapsed_time, 'seconds')\n",
        "\n",
        "    # Storing Run results\n",
        "    avgObjs.append(min(objs))\n",
        "    allRunObjs.append(objs)\n",
        "    avgLLH.append(bestLLH)\n",
        "    if min(objs)<bestRunObj:\n",
        "      bestRunObj=min(objs)\n",
        "      bestRunOpt=objs\n",
        "      bestRunSol=bestSol"
      ]
    },
    {
      "cell_type": "markdown",
      "metadata": {},
      "source": [
        "# Visualising Optimisation Results"
      ]
    },
    {
      "cell_type": "code",
      "execution_count": null,
      "metadata": {
        "id": "6dLyesglfmnq"
      },
      "outputs": [],
      "source": [
        "#Get best objective values got of all runs\n",
        "avgObjs"
      ]
    },
    {
      "cell_type": "code",
      "execution_count": null,
      "metadata": {
        "id": "dV6nsQaOfmnr"
      },
      "outputs": [],
      "source": [
        "#get the best objective value out of all runs\n",
        "bestRunObj"
      ]
    },
    {
      "cell_type": "code",
      "execution_count": null,
      "metadata": {
        "colab": {
          "base_uri": "https://localhost:8080/",
          "height": 322
        },
        "id": "79ge8EL1fmnr",
        "outputId": "29c84882-ee1d-446b-d23b-b5be5f268e68"
      },
      "outputs": [],
      "source": [
        "#Line graphs showing the change in objective values vs iterations\n",
        "plt.figure(figsize=(6,4))\n",
        "plt.title(\"Ants: 5  Construction Steps: 5\",fontsize=20)\n",
        "plt.xlabel(\"Iterations\",fontsize=15)\n",
        "plt.ylabel(\"Cost of Energy\",fontsize=15)\n",
        "plt.yscale(\"logit\")\n",
        "for i in range(len(allRunObjs)):\n",
        "  plt.plot(allRunObjs[i],label=\"Run \"+str(i+1))\n",
        "plt.legend()"
      ]
    },
    {
      "cell_type": "code",
      "execution_count": null,
      "metadata": {
        "colab": {
          "base_uri": "https://localhost:8080/",
          "height": 592
        },
        "id": "gxc7Fig4zfeX",
        "outputId": "aa1399c2-266c-49e7-85a6-62f250fb243b"
      },
      "outputs": [],
      "source": [
        "#Create Pie chart of LLH usage\n",
        "allLLH=[0]*8\n",
        "for i in avgLLH:\n",
        "  for j in i:\n",
        "    allLLH[j]+=1\n",
        "allLLH\n",
        "plt.figure(figsize=(10,10))\n",
        "plt.title(\"Secnario 3\",fontsize=15)\n",
        "plt.pie(allLLH,autopct='%1.1f%%')\n",
        "plt.legend(labels=[\"LLH1\",\"LLH2\",\"LLH3\",\"LLH4\",\"LLH5\",\"LLH6\",\"LLH7\",\"LLH8\"])\n",
        "plt.show()"
      ]
    },
    {
      "cell_type": "code",
      "execution_count": null,
      "metadata": {
        "colab": {
          "base_uri": "https://localhost:8080/",
          "height": 1000
        },
        "id": "FkcmdQQJfmnr",
        "outputId": "2bede594-173b-48ea-d290-e48b87da6f2e",
        "scrolled": false
      },
      "outputs": [],
      "source": [
        "#Visualise the best layout produced out of all runs\n",
        "visualize(bestRunSol)"
      ]
    }
  ],
  "metadata": {
    "colab": {
      "collapsed_sections": [],
      "provenance": []
    },
    "kernelspec": {
      "display_name": "Python 3 (ipykernel)",
      "language": "python",
      "name": "python3"
    },
    "language_info": {
      "codemirror_mode": {
        "name": "ipython",
        "version": 3
      },
      "file_extension": ".py",
      "mimetype": "text/x-python",
      "name": "python",
      "nbconvert_exporter": "python",
      "pygments_lexer": "ipython3",
      "version": "3.9.7"
    }
  },
  "nbformat": 4,
  "nbformat_minor": 0
}
